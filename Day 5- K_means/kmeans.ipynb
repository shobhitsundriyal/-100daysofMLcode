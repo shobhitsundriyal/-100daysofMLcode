{
  "nbformat": 4,
  "nbformat_minor": 0,
  "metadata": {
    "colab": {
      "name": "kmeans.ipynb",
      "version": "0.3.2",
      "views": {},
      "default_view": {},
      "provenance": []
    },
    "kernelspec": {
      "name": "python3",
      "display_name": "Python 3"
    }
  },
  "cells": [
    {
      "metadata": {
        "id": "H2tMHUuZ03r1",
        "colab_type": "text"
      },
      "cell_type": "markdown",
      "source": [
        "# Simple K_means clustering\n",
        "Implementing from scratch"
      ]
    },
    {
      "metadata": {
        "id": "j70rczHV1Oyd",
        "colab_type": "code",
        "colab": {
          "autoexec": {
            "startup": false,
            "wait_interval": 0
          }
        }
      },
      "cell_type": "code",
      "source": [
        "import pandas as pd\n",
        "import numpy as np\n",
        "import matplotlib.pyplot as plt\n",
        "%matplotlib inline"
      ],
      "execution_count": 0,
      "outputs": []
    },
    {
      "metadata": {
        "id": "9iqAgBxv1ZcV",
        "colab_type": "code",
        "colab": {
          "autoexec": {
            "startup": false,
            "wait_interval": 0
          },
          "base_uri": "https://localhost:8080/",
          "height": 324
        },
        "outputId": "0d7ef077-9d89-47af-a5f2-6597ea421c58",
        "executionInfo": {
          "status": "ok",
          "timestamp": 1532449385456,
          "user_tz": -330,
          "elapsed": 1175,
          "user": {
            "displayName": "Shobhit Sundriyal",
            "photoUrl": "https://lh3.googleusercontent.com/a/default-user=s128",
            "userId": "117368682925893777140"
          }
        }
      },
      "cell_type": "code",
      "source": [
        "df = pd.DataFrame({\n",
        "    'x': [12,20,28,18,29,33,24,45,45,52,51,52,55,53,55,61,64,69,72],\n",
        "    'y': [39,36,30,52,54,46,55,59,63,70,66,63,58,23,14,8,19,7,24]\n",
        "})\n",
        "np.random.seed(300)\n",
        "\n",
        "k=3\n",
        "centroids = {\n",
        "    i+1: [np.random.randint(0,80),np.random.randint(0,80)]\n",
        "    for i in range(k)\n",
        "}\n",
        "\n",
        "fig = plt.figure(figsize=(5, 5))\n",
        "plt.scatter(df['x'], df['y'], color='k')\n",
        "colmap = {1:'r', 2:'g', 3:'b'}\n",
        "for i in centroids.keys():\n",
        "    plt.scatter(*centroids[i], color=colmap[i])\n",
        "plt.xlim(0,80)\n",
        "plt.ylim(0,80)\n",
        "plt.show()"
      ],
      "execution_count": 36,
      "outputs": [
        {
          "output_type": "display_data",
          "data": {
            "image/png": "[encoded data removed]",
            "text/plain": [
              "<matplotlib.figure.Figure at 0x7fdf26ce7c88>"
            ]
          },
          "metadata": {
            "tags": []
          }
        }
      ]
    },
    {
      "metadata": {
        "id": "CsrD2RPk1fNt",
        "colab_type": "code",
        "colab": {
          "autoexec": {
            "startup": false,
            "wait_interval": 0
          },
          "base_uri": "https://localhost:8080/",
          "height": 425
        },
        "outputId": "ea9bbb0c-6953-486e-bc2a-1ff3ddb00ce9",
        "executionInfo": {
          "status": "ok",
          "timestamp": 1532449449652,
          "user_tz": -330,
          "elapsed": 1393,
          "user": {
            "displayName": "Shobhit Sundriyal",
            "photoUrl": "https://lh3.googleusercontent.com/a/default-user=s128",
            "userId": "117368682925893777140"
          }
        }
      },
      "cell_type": "code",
      "source": [
        "def assignment(df, centroids):\n",
        "    for i in centroids.keys():\n",
        "        df['distance_from_{}'.format(i)] = (\n",
        "            np.sqrt(\n",
        "                (df['x'] - centroids[i][0]) ** 2 +\n",
        "                (df['y'] - centroids[i][1]) ** 2\n",
        "            )\n",
        "        )\n",
        "    centroid_distance_cols = ['distance_from_{}'.format(i) for i in centroids.keys()]\n",
        "    df['closest'] = df.loc[:, centroid_distance_cols].idxmin(axis=1)\n",
        "    df['closest'] = df['closest'].map(lambda x: int(x.lstrip('distance_from_')))\n",
        "    df['color'] = df['closest'].map(lambda x: colmap[x])\n",
        "    return df\n",
        "\n",
        "df = assignment(df, centroids)\n",
        "print(df.head())\n",
        "\n",
        "fig = plt.figure(figsize=(5, 5))\n",
        "plt.scatter(df['x'], df['y'], color=df['color'], alpha=0.3, edgecolor='k')\n",
        "for i in centroids.keys():\n",
        "    plt.scatter(*centroids[i], color=colmap[i])\n",
        "plt.xlim(0,80)\n",
        "plt.ylim(0,80)\n",
        "plt.show()"
      ],
      "execution_count": 38,
      "outputs": [
        {
          "output_type": "stream",
          "text": [
            "    x   y  distance_from_1  distance_from_2  distance_from_3  closest color\n",
            "0  12  39        36.138622        17.262677        47.010637        2     g\n",
            "1  20  36        38.013156        17.804494        45.177428        2     g\n",
            "2  28  30        44.553339        20.615528        47.801674        2     g\n",
            "3  18  52        22.203603        31.320920        33.241540        1     r\n",
            "4  29  54        21.540659        37.735925        25.059928        1     r\n"
          ],
          "name": "stdout"
        },
        {
          "output_type": "display_data",
          "data": {
            "image/png": "[encoded data removed]",
            "text/plain": [
              "<matplotlib.figure.Figure at 0x7fdf26b895f8>"
            ]
          },
          "metadata": {
            "tags": []
          }
        }
      ]
    },
    {
      "metadata": {
        "id": "8G37cp3A2wgI",
        "colab_type": "text"
      },
      "cell_type": "markdown",
      "source": [
        "Now we will update the centroids"
      ]
    },
    {
      "metadata": {
        "id": "8keHLD6b21Rb",
        "colab_type": "code",
        "colab": {
          "autoexec": {
            "startup": false,
            "wait_interval": 0
          },
          "base_uri": "https://localhost:8080/",
          "height": 324
        },
        "outputId": "4978bd5a-23f5-415d-bef7-49e623e2c8b5",
        "executionInfo": {
          "status": "ok",
          "timestamp": 1532449370974,
          "user_tz": -330,
          "elapsed": 1465,
          "user": {
            "displayName": "Shobhit Sundriyal",
            "photoUrl": "https://lh3.googleusercontent.com/a/default-user=s128",
            "userId": "117368682925893777140"
          }
        }
      },
      "cell_type": "code",
      "source": [
        "import copy\n",
        "old_centroids = copy.deepcopy(centroids)\n",
        "\n",
        "def update(k):\n",
        "  for i in centroids.keys():\n",
        "    centroids[i][0] = np.mean(df[df['closest'] == i]['x'])\n",
        "    centroids[i][1] = np.mean(df[df['closest'] == i]['y'])\n",
        "  return k\n",
        "    \n",
        "centroids = update(centroids)\n",
        "\n",
        "\n",
        "fig = plt.figure(figsize=(5, 5))\n",
        "ax = plt.axes()\n",
        "plt.scatter(df['x'], df['y'], color=df['color'], alpha=0.3, edgecolor='k')\n",
        "for i in centroids.keys():\n",
        "    plt.scatter(*centroids[i], color=colmap[i])\n",
        "plt.xlim(0,80)\n",
        "plt.ylim(0,80)\n",
        "plt.show()\n",
        "\n",
        "for i in old_centroids.keys():\n",
        "  old_x = old_centroids[i][0]\n",
        "  old_y = old_centroids[i][1]\n",
        "  dx = (centroids[i][0] - old_centroids[i][0]) * 0.75\n",
        "  dy = (centroids[i][1] - old_centroids[i][1]) * 0.75\n",
        "  ax.arrow(old_x, old_y, dx, dy, head_width=2, head_length=3, fc=colmap[i],\n",
        "           ec=colmap[i])\n",
        "plt.show()"
      ],
      "execution_count": 34,
      "outputs": [
        {
          "output_type": "display_data",
          "data": {
            "image/png": "[encoded data removed]",
            "text/plain": [
              "<matplotlib.figure.Figure at 0x7fdf26b951d0>"
            ]
          },
          "metadata": {
            "tags": []
          }
        }
      ]
    },
    {
      "metadata": {
        "id": "2q6onW31G4OQ",
        "colab_type": "text"
      },
      "cell_type": "markdown",
      "source": [
        "Repeat assignment stage"
      ]
    },
    {
      "metadata": {
        "id": "mHV4V6ycGyfv",
        "colab_type": "code",
        "colab": {
          "autoexec": {
            "startup": false,
            "wait_interval": 0
          },
          "base_uri": "https://localhost:8080/",
          "height": 425
        },
        "outputId": "cb603edc-2830-433d-859e-3d080bb39975",
        "executionInfo": {
          "status": "ok",
          "timestamp": 1532449578232,
          "user_tz": -330,
          "elapsed": 1353,
          "user": {
            "displayName": "Shobhit Sundriyal",
            "photoUrl": "https://lh3.googleusercontent.com/a/default-user=s128",
            "userId": "117368682925893777140"
          }
        }
      },
      "cell_type": "code",
      "source": [
        "df = assignment(df, centroids)\n",
        "print(df.head())\n",
        "\n",
        "fig = plt.figure(figsize=(5, 5))\n",
        "plt.scatter(df['x'], df['y'], color=df['color'], alpha=0.3, edgecolor='k')\n",
        "for i in centroids.keys():\n",
        "    plt.scatter(*centroids[i], color=colmap[i])\n",
        "plt.xlim(0,80)\n",
        "plt.ylim(0,80)\n",
        "plt.show()"
      ],
      "execution_count": 39,
      "outputs": [
        {
          "output_type": "stream",
          "text": [
            "    x   y  distance_from_1  distance_from_2  distance_from_3  closest color\n",
            "0  12  39        36.138622        17.262677        47.010637        2     g\n",
            "1  20  36        38.013156        17.804494        45.177428        2     g\n",
            "2  28  30        44.553339        20.615528        47.801674        2     g\n",
            "3  18  52        22.203603        31.320920        33.241540        1     r\n",
            "4  29  54        21.540659        37.735925        25.059928        1     r\n"
          ],
          "name": "stdout"
        },
        {
          "output_type": "display_data",
          "data": {
            "image/png": "[encoded data removed]",
            "text/plain": [
              "<matplotlib.figure.Figure at 0x7fdf2901ad68>"
            ]
          },
          "metadata": {
            "tags": []
          }
        }
      ]
    },
    {
      "metadata": {
        "id": "g731QIymH4kW",
        "colab_type": "text"
      },
      "cell_type": "markdown",
      "source": [
        "Repeat the process till current and previous centroids are the same"
      ]
    },
    {
      "metadata": {
        "id": "YfNzAwL4IBTB",
        "colab_type": "code",
        "colab": {
          "autoexec": {
            "startup": false,
            "wait_interval": 0
          },
          "base_uri": "https://localhost:8080/",
          "height": 324
        },
        "outputId": "c6f606b0-abca-4ab8-9ad8-ec69ae0bdb81",
        "executionInfo": {
          "status": "ok",
          "timestamp": 1532450011371,
          "user_tz": -330,
          "elapsed": 1681,
          "user": {
            "displayName": "Shobhit Sundriyal",
            "photoUrl": "https://lh3.googleusercontent.com/a/default-user=s128",
            "userId": "117368682925893777140"
          }
        }
      },
      "cell_type": "code",
      "source": [
        "while True:\n",
        "  closest_centroids = df['closest'].copy(deep=True)\n",
        "  centroids = update(centroids)\n",
        "  df = assignment(df, centroids)\n",
        "  if closest_centroids.equals(df['closest']):\n",
        "    break\n",
        "  \n",
        "fig = plt.figure(figsize=(5, 5))\n",
        "plt.scatter(df['x'], df['y'], color=df['color'], alpha=0.3, edgecolor='k')\n",
        "for i in centroids.keys():\n",
        "    plt.scatter(*centroids[i], color=colmap[i])\n",
        "plt.xlim(0,80)\n",
        "plt.ylim(0,80)\n",
        "plt.show()"
      ],
      "execution_count": 40,
      "outputs": [
        {
          "output_type": "display_data",
          "data": {
            "image/png": "[encoded data removed]",
            "text/plain": [
              "<matplotlib.figure.Figure at 0x7fdf26c5e550>"
            ]
          },
          "metadata": {
            "tags": []
          }
        }
      ]
    },
    {
      "metadata": {
        "id": "AYLU4p1zI7Fl",
        "colab_type": "text"
      },
      "cell_type": "markdown",
      "source": [
        "#Now implementing the same with sklearn\n",
        "Let's start with same data"
      ]
    },
    {
      "metadata": {
        "id": "v2BZWPdnJRAC",
        "colab_type": "code",
        "colab": {
          "autoexec": {
            "startup": false,
            "wait_interval": 0
          },
          "base_uri": "https://localhost:8080/",
          "height": 67
        },
        "outputId": "0f62eebc-0198-4934-fe11-3113a80db1e0",
        "executionInfo": {
          "status": "ok",
          "timestamp": 1532450278870,
          "user_tz": -330,
          "elapsed": 1129,
          "user": {
            "displayName": "Shobhit Sundriyal",
            "photoUrl": "https://lh3.googleusercontent.com/a/default-user=s128",
            "userId": "117368682925893777140"
          }
        }
      },
      "cell_type": "code",
      "source": [
        "df = pd.DataFrame({\n",
        "    'x': [12,20,28,18,29,33,24,45,45,52,51,52,55,53,55,61,64,69,72],\n",
        "    'y': [39,36,30,52,54,46,55,59,63,70,66,63,58,23,14,8,19,7,24]\n",
        "})\n",
        "\n",
        "from sklearn.cluster import KMeans\n",
        "\n",
        "kmean = KMeans(n_clusters=3)\n",
        "kmean.fit(df)"
      ],
      "execution_count": 42,
      "outputs": [
        {
          "output_type": "execute_result",
          "data": {
            "text/plain": [
              "KMeans(algorithm='auto', copy_x=True, init='k-means++', max_iter=300,\n",
              "    n_clusters=3, n_init=10, n_jobs=1, precompute_distances='auto',\n",
              "    random_state=None, tol=0.0001, verbose=0)"
            ]
          },
          "metadata": {
            "tags": []
          },
          "execution_count": 42
        }
      ]
    },
    {
      "metadata": {
        "id": "KKJteJQHJ6eX",
        "colab_type": "code",
        "colab": {
          "autoexec": {
            "startup": false,
            "wait_interval": 0
          }
        }
      },
      "cell_type": "code",
      "source": [
        "labels = kmean.predict(df)\n",
        "centroids = kmean.cluster_centers_"
      ],
      "execution_count": 0,
      "outputs": []
    },
    {
      "metadata": {
        "id": "eTR4uuPxKRWe",
        "colab_type": "code",
        "colab": {
          "autoexec": {
            "startup": false,
            "wait_interval": 0
          },
          "base_uri": "https://localhost:8080/",
          "height": 324
        },
        "outputId": "783d2198-64cb-4236-98f9-066627f15368",
        "executionInfo": {
          "status": "ok",
          "timestamp": 1532450724726,
          "user_tz": -330,
          "elapsed": 1402,
          "user": {
            "displayName": "Shobhit Sundriyal",
            "photoUrl": "https://lh3.googleusercontent.com/a/default-user=s128",
            "userId": "117368682925893777140"
          }
        }
      },
      "cell_type": "code",
      "source": [
        "#plotting\n",
        "fig = plt.figure(figsize=(5, 5))\n",
        "colors = map(lambda x: colmap[x+1], labels)\n",
        "colo = list(colors)\n",
        "plt.scatter(df['x'], df['y'], color=colo, alpha=0.3, edgecolor='k')\n",
        "for idx, centroid in enumerate(centroids):\n",
        "  plt.scatter(*centroid, color=colmap[idx+1])\n",
        "plt.xlim(0,80)\n",
        "plt.ylim(0,80)\n",
        "plt.show()"
      ],
      "execution_count": 45,
      "outputs": [
        {
          "output_type": "display_data",
          "data": {
            "image/png": "[encoded data removed]",
            "text/plain": [
              "<matplotlib.figure.Figure at 0x7fdf21728780>"
            ]
          },
          "metadata": {
            "tags": []
          }
        }
      ]
    },
    {
      "metadata": {
        "id": "4Ns74LdpLup1",
        "colab_type": "text"
      },
      "cell_type": "markdown",
      "source": [
        "The last graph centroids are the same only color coding is different."
      ]
    }
  ]
}