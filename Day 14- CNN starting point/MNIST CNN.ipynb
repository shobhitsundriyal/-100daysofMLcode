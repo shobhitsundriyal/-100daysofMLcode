{
  "nbformat": 4,
  "nbformat_minor": 0,
  "metadata": {
    "colab": {
      "name": "Untitled0.ipynb",
      "version": "0.3.2",
      "provenance": []
    },
    "kernelspec": {
      "name": "python3",
      "display_name": "Python 3"
    }
  },
  "cells": [
    {
      "metadata": {
        "id": "nC1MlbDqnngA",
        "colab_type": "text"
      },
      "cell_type": "markdown",
      "source": [
        "\n",
        "# MNIST classification with tensorflow"
      ]
    },
    {
      "metadata": {
        "id": "Yu9ECDCS9ZCn",
        "colab_type": "code",
        "colab": {}
      },
      "cell_type": "code",
      "source": [
        "import tensorflow as tf\n",
        "import numpy as np\n",
        "import matplotlib\n",
        "import matplotlib.pyplot as plt"
      ],
      "execution_count": 0,
      "outputs": []
    },
    {
      "metadata": {
        "id": "bwymoMnUnjrN",
        "colab_type": "code",
        "colab": {
          "base_uri": "https://localhost:8080/",
          "height": 367
        },
        "outputId": "2127d5ec-b51b-420a-f339-80e768b96ab0"
      },
      "cell_type": "code",
      "source": [
        "from tensorflow.examples.tutorials.mnist import input_data\n",
        "mnist = input_data.read_data_sets('mnist_data/')"
      ],
      "execution_count": 2,
      "outputs": [
        {
          "output_type": "stream",
          "text": [
            "WARNING:tensorflow:From <ipython-input-2-a8c3fd402475>:2: read_data_sets (from tensorflow.contrib.learn.python.learn.datasets.mnist) is deprecated and will be removed in a future version.\n",
            "Instructions for updating:\n",
            "Please use alternatives such as official/mnist/dataset.py from tensorflow/models.\n",
            "WARNING:tensorflow:From /usr/local/lib/python3.6/dist-packages/tensorflow/contrib/learn/python/learn/datasets/mnist.py:260: maybe_download (from tensorflow.contrib.learn.python.learn.datasets.base) is deprecated and will be removed in a future version.\n",
            "Instructions for updating:\n",
            "Please write your own downloading logic.\n",
            "WARNING:tensorflow:From /usr/local/lib/python3.6/dist-packages/tensorflow/contrib/learn/python/learn/datasets/mnist.py:262: extract_images (from tensorflow.contrib.learn.python.learn.datasets.mnist) is deprecated and will be removed in a future version.\n",
            "Instructions for updating:\n",
            "Please use tf.data to implement this functionality.\n",
            "Extracting mnist_data/train-images-idx3-ubyte.gz\n",
            "WARNING:tensorflow:From /usr/local/lib/python3.6/dist-packages/tensorflow/contrib/learn/python/learn/datasets/mnist.py:267: extract_labels (from tensorflow.contrib.learn.python.learn.datasets.mnist) is deprecated and will be removed in a future version.\n",
            "Instructions for updating:\n",
            "Please use tf.data to implement this functionality.\n",
            "Extracting mnist_data/train-labels-idx1-ubyte.gz\n",
            "Extracting mnist_data/t10k-images-idx3-ubyte.gz\n",
            "Extracting mnist_data/t10k-labels-idx1-ubyte.gz\n",
            "WARNING:tensorflow:From /usr/local/lib/python3.6/dist-packages/tensorflow/contrib/learn/python/learn/datasets/mnist.py:290: DataSet.__init__ (from tensorflow.contrib.learn.python.learn.datasets.mnist) is deprecated and will be removed in a future version.\n",
            "Instructions for updating:\n",
            "Please use alternatives such as official/mnist/dataset.py from tensorflow/models.\n"
          ],
          "name": "stdout"
        }
      ]
    },
    {
      "metadata": {
        "id": "ljJET6-Hn-EQ",
        "colab_type": "code",
        "colab": {}
      },
      "cell_type": "code",
      "source": [
        "def display_digit(digit):\n",
        "  plt.imshow(digit.reshape(28,28), cmap='Greys', interpolation='nearest')"
      ],
      "execution_count": 0,
      "outputs": []
    },
    {
      "metadata": {
        "id": "g2qBcsG9pAg-",
        "colab_type": "code",
        "colab": {
          "base_uri": "https://localhost:8080/",
          "height": 347
        },
        "outputId": "aad57a96-7d2d-46b9-8476-35a80fe0b594"
      },
      "cell_type": "code",
      "source": [
        "training_data, training_label = mnist.train.next_batch(1000)\n",
        "test_data, test_label = mnist.test.next_batch(200)\n",
        "display_digit(training_data[1])"
      ],
      "execution_count": 4,
      "outputs": [
        {
          "output_type": "display_data",
          "data": {
            "image/png": "[encoded data removed]",
            "text/plain": [
              "<matplotlib.figure.Figure at 0x7fc6ad863fd0>"
            ]
          },
          "metadata": {
            "tags": []
          }
        }
      ]
    },
    {
      "metadata": {
        "id": "xlgZgdm8pm0u",
        "colab_type": "code",
        "colab": {}
      },
      "cell_type": "code",
      "source": [
        "height, width = 28, 28\n",
        "channels = 1\n",
        "n_inputs = height * width"
      ],
      "execution_count": 0,
      "outputs": []
    },
    {
      "metadata": {
        "id": "r0iDTcWTqxyN",
        "colab_type": "text"
      },
      "cell_type": "markdown",
      "source": [
        "## Convolution Layer 1"
      ]
    },
    {
      "metadata": {
        "id": "8bU3rQZJqbFR",
        "colab_type": "code",
        "colab": {}
      },
      "cell_type": "code",
      "source": [
        "conv1_feature_maps = 32\n",
        "conv1_kernel_size = 3\n",
        "conv1_stride = 1\n",
        "conv1_pad = 'SAME'"
      ],
      "execution_count": 0,
      "outputs": []
    },
    {
      "metadata": {
        "id": "oWDi4Vykq6wL",
        "colab_type": "text"
      },
      "cell_type": "markdown",
      "source": [
        "## Convolution Layer 2"
      ]
    },
    {
      "metadata": {
        "id": "KMWUgfsPq5sX",
        "colab_type": "code",
        "colab": {}
      },
      "cell_type": "code",
      "source": [
        "conv2_feature_maps = 64\n",
        "conv2_kernel_size = 3\n",
        "conv2_stride = 2\n",
        "conv2_pad = 'SAME'"
      ],
      "execution_count": 0,
      "outputs": []
    },
    {
      "metadata": {
        "id": "EVdolhU5rNtw",
        "colab_type": "code",
        "colab": {}
      },
      "cell_type": "code",
      "source": [
        "pool3_feature_maps = conv2_feature_maps\n",
        "\n",
        "n_fullyconn1 = 64\n",
        "n_outputs = 10  #ten digits"
      ],
      "execution_count": 0,
      "outputs": []
    },
    {
      "metadata": {
        "id": "TLzs8SwHsUgF",
        "colab_type": "text"
      },
      "cell_type": "markdown",
      "source": [
        "### Starting tf graph"
      ]
    },
    {
      "metadata": {
        "id": "JuC_wm5hsboA",
        "colab_type": "code",
        "colab": {}
      },
      "cell_type": "code",
      "source": [
        "tf.reset_default_graph()\n",
        "\n",
        "X = tf.placeholder(tf.float32, shape=[None, n_inputs], name='X')\n",
        "\n",
        "X_reshaped = tf.reshape(X, shape=[-1, height, width, channels]) # reshae  to 2d shape=-1 means fisrt tensor is batch_size\n",
        "\n",
        "y = tf.placeholder(tf.int32, shape=[None], name='y')"
      ],
      "execution_count": 0,
      "outputs": []
    },
    {
      "metadata": {
        "id": "sSbJ42PIt_BL",
        "colab_type": "code",
        "colab": {
          "base_uri": "https://localhost:8080/",
          "height": 35
        },
        "outputId": "7f88890c-e35d-438e-9b59-59bd82be5f6e"
      },
      "cell_type": "code",
      "source": [
        "conv1 = tf.layers.conv2d(X_reshaped, filters=conv1_feature_maps,\n",
        "                        kernel_size=conv1_kernel_size, strides=conv1_stride,\n",
        "                        padding=conv1_pad, activation=tf.nn.relu, name='conv1')\n",
        "conv1.shape"
      ],
      "execution_count": 10,
      "outputs": [
        {
          "output_type": "execute_result",
          "data": {
            "text/plain": [
              "TensorShape([Dimension(None), Dimension(28), Dimension(28), Dimension(32)])"
            ]
          },
          "metadata": {
            "tags": []
          },
          "execution_count": 10
        }
      ]
    },
    {
      "metadata": {
        "id": "8WmyszYuvGtg",
        "colab_type": "code",
        "colab": {
          "base_uri": "https://localhost:8080/",
          "height": 35
        },
        "outputId": "e7d7073d-1754-46ff-a43f-b8647b51b31b"
      },
      "cell_type": "code",
      "source": [
        "conv2 = tf.layers.conv2d(conv1, filters=conv2_feature_maps,\n",
        "                        kernel_size=conv2_kernel_size, strides=conv2_stride,\n",
        "                        padding=conv2_pad, activation=tf.nn.relu, name='conv2')\n",
        "conv2.shape"
      ],
      "execution_count": 11,
      "outputs": [
        {
          "output_type": "execute_result",
          "data": {
            "text/plain": [
              "TensorShape([Dimension(None), Dimension(14), Dimension(14), Dimension(64)])"
            ]
          },
          "metadata": {
            "tags": []
          },
          "execution_count": 11
        }
      ]
    },
    {
      "metadata": {
        "id": "sIH-deaQvuo3",
        "colab_type": "code",
        "colab": {
          "base_uri": "https://localhost:8080/",
          "height": 35
        },
        "outputId": "2683f850-ce66-4cad-a950-75b146fbe69c"
      },
      "cell_type": "code",
      "source": [
        "pool3 = tf.nn.max_pool(conv2,\n",
        "                      ksize=[1,2,2,1],\n",
        "                      strides=[1,2,2,1],\n",
        "                      padding='VALID')  #[batch_size, height, width, channels]\n",
        "pool3.shape"
      ],
      "execution_count": 12,
      "outputs": [
        {
          "output_type": "execute_result",
          "data": {
            "text/plain": [
              "TensorShape([Dimension(None), Dimension(7), Dimension(7), Dimension(64)])"
            ]
          },
          "metadata": {
            "tags": []
          },
          "execution_count": 12
        }
      ]
    },
    {
      "metadata": {
        "id": "1By4TAocwxp8",
        "colab_type": "code",
        "colab": {}
      },
      "cell_type": "code",
      "source": [
        "pool_flat = tf.reshape(pool3, shape=[-1, pool3_feature_maps * 7 * 7])\n",
        "\n",
        "#Dense layer\n",
        "fullyconn1 = tf.layers.dense(pool_flat, n_fullyconn1,\n",
        "                            activation=tf.nn.relu, name='fcl')\n",
        "\n",
        "logits = tf.layers.dense(fullyconn1, n_outputs, name='output') \n",
        "\n",
        "xentropy = tf.nn.sparse_softmax_cross_entropy_with_logits(logits=logits, labels=y)\n",
        "\n",
        "loss = tf.reduce_mean(xentropy)\n",
        "optimizer = tf.train.AdamOptimizer()\n",
        "training_op = optimizer.minimize(loss)"
      ],
      "execution_count": 0,
      "outputs": []
    },
    {
      "metadata": {
        "id": "v_LH9odwzACe",
        "colab_type": "code",
        "colab": {}
      },
      "cell_type": "code",
      "source": [
        "correct = tf.nn.in_top_k(logits, y, 1)\n",
        "accuracy = tf.reduce_mean(tf.cast(correct, tf.float32))"
      ],
      "execution_count": 0,
      "outputs": []
    },
    {
      "metadata": {
        "id": "W9ugx_H62Ne1",
        "colab_type": "code",
        "colab": {}
      },
      "cell_type": "code",
      "source": [
        "init = tf.global_variables_initializer()\n",
        "saver = tf.train.Saver()"
      ],
      "execution_count": 0,
      "outputs": []
    },
    {
      "metadata": {
        "id": "ahXkIk5y2a1v",
        "colab_type": "code",
        "colab": {
          "base_uri": "https://localhost:8080/",
          "height": 101
        },
        "outputId": "cf20c769-5a7f-4247-bed1-5620b76cdb99"
      },
      "cell_type": "code",
      "source": [
        "n_epochs = 5\n",
        "batch_size = 100\n",
        "\n",
        "with tf.Session() as s:\n",
        "  init.run()\n",
        "  \n",
        "  for epoch in range(n_epochs):\n",
        "    for i in range(mnist.train.num_examples // batch_size):\n",
        "      X_batch, y_batch = mnist.train.next_batch(batch_size)\n",
        "      \n",
        "      s.run(training_op, feed_dict={X:X_batch, y:y_batch})\n",
        "      \n",
        "    accuracy_train = accuracy.eval(feed_dict={X:X_batch, y:y_batch})\n",
        "    accuracy_test = accuracy.eval(feed_dict={X:mnist.test.images, y:mnist.test.labels})\n",
        "    \n",
        "    print(epoch,' Training Accuracy: ',accuracy_train,' Test Accuracy:',accuracy_test)\n",
        "    \n",
        "    save_path = saver.save(s,'./my_mnist_model')\n",
        "    "
      ],
      "execution_count": 22,
      "outputs": [
        {
          "output_type": "stream",
          "text": [
            "0  Training Accuracy:  0.98  Test Accuracy: 0.9812\n",
            "1  Training Accuracy:  1.0  Test Accuracy: 0.9872\n",
            "2  Training Accuracy:  1.0  Test Accuracy: 0.9862\n",
            "3  Training Accuracy:  0.98  Test Accuracy: 0.989\n",
            "4  Training Accuracy:  1.0  Test Accuracy: 0.9888\n"
          ],
          "name": "stdout"
        }
      ]
    },
    {
      "metadata": {
        "id": "DIxvxV37BhRU",
        "colab_type": "text"
      },
      "cell_type": "markdown",
      "source": [
        "### Completed \"Hello World of CNNs\""
      ]
    },
    {
      "metadata": {
        "id": "ONyqpSaHBp8v",
        "colab_type": "code",
        "colab": {}
      },
      "cell_type": "code",
      "source": [
        ""
      ],
      "execution_count": 0,
      "outputs": []
    }
  ]
}