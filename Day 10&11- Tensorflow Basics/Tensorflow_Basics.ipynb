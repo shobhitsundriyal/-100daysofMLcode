{
  "nbformat": 4,
  "nbformat_minor": 0,
  "metadata": {
    "colab": {
      "name": "Tensorflow Basics.ipynb",
      "version": "0.3.2",
      "views": {},
      "default_view": {},
      "provenance": []
    },
    "kernelspec": {
      "name": "python3",
      "display_name": "Python 3"
    }
  },
  "cells": [
    {
      "metadata": {
        "id": "NOXku6UKO4Mz",
        "colab_type": "text"
      },
      "cell_type": "markdown",
      "source": [
        "## Tensorflow basics\n"
      ]
    },
    {
      "metadata": {
        "id": "getmgL11OwRN",
        "colab_type": "code",
        "colab": {
          "autoexec": {
            "startup": false,
            "wait_interval": 0
          },
          "base_uri": "https://localhost:8080/",
          "height": 35
        },
        "outputId": "8125a4df-2c9b-4dae-e597-ac90520b6524",
        "executionInfo": {
          "status": "ok",
          "timestamp": 1533022087213,
          "user_tz": -330,
          "elapsed": 3215,
          "user": {
            "displayName": "Shobhit Sundriyal",
            "photoUrl": "https://lh3.googleusercontent.com/a/default-user=s128",
            "userId": "117368682925893777140"
          }
        }
      },
      "cell_type": "code",
      "source": [
        "import tensorflow as tf\n",
        "print(tf.__version__)"
      ],
      "execution_count": 1,
      "outputs": [
        {
          "output_type": "stream",
          "text": [
            "1.9.0\n"
          ],
          "name": "stdout"
        }
      ]
    },
    {
      "metadata": {
        "id": "Fp5_1s2mPHaa",
        "colab_type": "code",
        "colab": {
          "autoexec": {
            "startup": false,
            "wait_interval": 0
          },
          "base_uri": "https://localhost:8080/",
          "height": 52
        },
        "outputId": "ce1b2e20-5856-417f-d2d1-32dd2dedd384",
        "executionInfo": {
          "status": "ok",
          "timestamp": 1533022107333,
          "user_tz": -330,
          "elapsed": 1061,
          "user": {
            "displayName": "Shobhit Sundriyal",
            "photoUrl": "https://lh3.googleusercontent.com/a/default-user=s128",
            "userId": "117368682925893777140"
          }
        }
      },
      "cell_type": "code",
      "source": [
        "hello = tf.constant('hello')\n",
        "world = tf.constant('world')\n",
        "print(type(hello))\n",
        "print(hello)"
      ],
      "execution_count": 2,
      "outputs": [
        {
          "output_type": "stream",
          "text": [
            "<class 'tensorflow.python.framework.ops.Tensor'>\n",
            "Tensor(\"Const:0\", shape=(), dtype=string)\n"
          ],
          "name": "stdout"
        }
      ]
    },
    {
      "metadata": {
        "id": "cBG5PV9xPTj_",
        "colab_type": "text"
      },
      "cell_type": "markdown",
      "source": [
        "##Block that will run tensorflow session"
      ]
    },
    {
      "metadata": {
        "id": "KspOtK87PQT_",
        "colab_type": "code",
        "colab": {
          "autoexec": {
            "startup": false,
            "wait_interval": 0
          },
          "base_uri": "https://localhost:8080/",
          "height": 35
        },
        "outputId": "5a1ece21-0a26-4b90-ad64-780e956959cf",
        "executionInfo": {
          "status": "ok",
          "timestamp": 1533022138156,
          "user_tz": -330,
          "elapsed": 1084,
          "user": {
            "displayName": "Shobhit Sundriyal",
            "photoUrl": "https://lh3.googleusercontent.com/a/default-user=s128",
            "userId": "117368682925893777140"
          }
        }
      },
      "cell_type": "code",
      "source": [
        "with tf.Session() as sess:\n",
        "    result = sess.run(hello+world)\n",
        "print(result)"
      ],
      "execution_count": 3,
      "outputs": [
        {
          "output_type": "stream",
          "text": [
            "b'helloworld'\n"
          ],
          "name": "stdout"
        }
      ]
    },
    {
      "metadata": {
        "id": "D6s-rkQ0PWqn",
        "colab_type": "code",
        "colab": {
          "autoexec": {
            "startup": false,
            "wait_interval": 0
          },
          "base_uri": "https://localhost:8080/",
          "height": 52
        },
        "outputId": "f2339681-b558-46d8-e75c-3b06099895e8",
        "executionInfo": {
          "status": "ok",
          "timestamp": 1533022146870,
          "user_tz": -330,
          "elapsed": 781,
          "user": {
            "displayName": "Shobhit Sundriyal",
            "photoUrl": "https://lh3.googleusercontent.com/a/default-user=s128",
            "userId": "117368682925893777140"
          }
        }
      },
      "cell_type": "code",
      "source": [
        "a = tf.constant(10)\n",
        "b = tf.constant(20)\n",
        "print(type(a))\n",
        "print(a+b)"
      ],
      "execution_count": 4,
      "outputs": [
        {
          "output_type": "stream",
          "text": [
            "<class 'tensorflow.python.framework.ops.Tensor'>\n",
            "Tensor(\"add_1:0\", shape=(), dtype=int32)\n"
          ],
          "name": "stdout"
        }
      ]
    },
    {
      "metadata": {
        "id": "cGumHJXBPY3o",
        "colab_type": "code",
        "colab": {
          "autoexec": {
            "startup": false,
            "wait_interval": 0
          },
          "base_uri": "https://localhost:8080/",
          "height": 35
        },
        "outputId": "5889bcf9-6ba6-4ae6-e1b6-7d083e739175",
        "executionInfo": {
          "status": "ok",
          "timestamp": 1533022158666,
          "user_tz": -330,
          "elapsed": 955,
          "user": {
            "displayName": "Shobhit Sundriyal",
            "photoUrl": "https://lh3.googleusercontent.com/a/default-user=s128",
            "userId": "117368682925893777140"
          }
        }
      },
      "cell_type": "code",
      "source": [
        "a+b"
      ],
      "execution_count": 5,
      "outputs": [
        {
          "output_type": "execute_result",
          "data": {
            "text/plain": [
              "<tf.Tensor 'add_2:0' shape=() dtype=int32>"
            ]
          },
          "metadata": {
            "tags": []
          },
          "execution_count": 5
        }
      ]
    },
    {
      "metadata": {
        "id": "Po47twcmPbs-",
        "colab_type": "code",
        "colab": {
          "autoexec": {
            "startup": false,
            "wait_interval": 0
          },
          "base_uri": "https://localhost:8080/",
          "height": 35
        },
        "outputId": "d30ee4ad-eb09-4450-b1ea-8b8607577dd7",
        "executionInfo": {
          "status": "ok",
          "timestamp": 1533022161955,
          "user_tz": -330,
          "elapsed": 1007,
          "user": {
            "displayName": "Shobhit Sundriyal",
            "photoUrl": "https://lh3.googleusercontent.com/a/default-user=s128",
            "userId": "117368682925893777140"
          }
        }
      },
      "cell_type": "code",
      "source": [
        "a+b"
      ],
      "execution_count": 6,
      "outputs": [
        {
          "output_type": "execute_result",
          "data": {
            "text/plain": [
              "<tf.Tensor 'add_3:0' shape=() dtype=int32>"
            ]
          },
          "metadata": {
            "tags": []
          },
          "execution_count": 6
        }
      ]
    },
    {
      "metadata": {
        "id": "PA5vSAEMPcf6",
        "colab_type": "code",
        "colab": {
          "autoexec": {
            "startup": false,
            "wait_interval": 0
          },
          "base_uri": "https://localhost:8080/",
          "height": 35
        },
        "outputId": "8bd865ad-1b7e-48b5-e4ed-30f8d727bf74",
        "executionInfo": {
          "status": "ok",
          "timestamp": 1533022166780,
          "user_tz": -330,
          "elapsed": 1022,
          "user": {
            "displayName": "Shobhit Sundriyal",
            "photoUrl": "https://lh3.googleusercontent.com/a/default-user=s128",
            "userId": "117368682925893777140"
          }
        }
      },
      "cell_type": "code",
      "source": [
        "a+b"
      ],
      "execution_count": 7,
      "outputs": [
        {
          "output_type": "execute_result",
          "data": {
            "text/plain": [
              "<tf.Tensor 'add_4:0' shape=() dtype=int32>"
            ]
          },
          "metadata": {
            "tags": []
          },
          "execution_count": 7
        }
      ]
    },
    {
      "metadata": {
        "id": "BN2XWyn1PdrH",
        "colab_type": "code",
        "colab": {
          "autoexec": {
            "startup": false,
            "wait_interval": 0
          },
          "base_uri": "https://localhost:8080/",
          "height": 35
        },
        "outputId": "e7baad93-6ee4-4ed9-8ddb-d8d6161bbfab",
        "executionInfo": {
          "status": "ok",
          "timestamp": 1533022195820,
          "user_tz": -330,
          "elapsed": 1012,
          "user": {
            "displayName": "Shobhit Sundriyal",
            "photoUrl": "https://lh3.googleusercontent.com/a/default-user=s128",
            "userId": "117368682925893777140"
          }
        }
      },
      "cell_type": "code",
      "source": [
        "with tf.Session() as sess:\n",
        "    result = sess.run(a+b)\n",
        "print(result)"
      ],
      "execution_count": 8,
      "outputs": [
        {
          "output_type": "stream",
          "text": [
            "30\n"
          ],
          "name": "stdout"
        }
      ]
    },
    {
      "metadata": {
        "id": "_OTYiugAPkw6",
        "colab_type": "code",
        "colab": {
          "autoexec": {
            "startup": false,
            "wait_interval": 0
          }
        }
      },
      "cell_type": "code",
      "source": [
        "const = tf.constant(10)\n",
        "fill_mat = tf.fill((4, 4), 10)\n",
        "myzeros = tf.zeros((4, 4))\n",
        "myones = tf.ones((4, 4))\n",
        "myrandom = tf.random_normal((4, 4), mean=0, stddev=1.0)\n",
        "myrand = tf.random_uniform((4,4), minval=0, maxval=1)"
      ],
      "execution_count": 0,
      "outputs": []
    },
    {
      "metadata": {
        "id": "pstXsCiiPm7H",
        "colab_type": "code",
        "colab": {
          "autoexec": {
            "startup": false,
            "wait_interval": 0
          },
          "base_uri": "https://localhost:8080/",
          "height": 35
        },
        "outputId": "41a268e3-f86f-4051-8502-d9d30eb139a8",
        "executionInfo": {
          "status": "ok",
          "timestamp": 1533022213543,
          "user_tz": -330,
          "elapsed": 963,
          "user": {
            "displayName": "Shobhit Sundriyal",
            "photoUrl": "https://lh3.googleusercontent.com/a/default-user=s128",
            "userId": "117368682925893777140"
          }
        }
      },
      "cell_type": "code",
      "source": [
        "myzeros"
      ],
      "execution_count": 10,
      "outputs": [
        {
          "output_type": "execute_result",
          "data": {
            "text/plain": [
              "<tf.Tensor 'zeros:0' shape=(4, 4) dtype=float32>"
            ]
          },
          "metadata": {
            "tags": []
          },
          "execution_count": 10
        }
      ]
    },
    {
      "metadata": {
        "id": "NiEupgnuPpGU",
        "colab_type": "code",
        "colab": {
          "autoexec": {
            "startup": false,
            "wait_interval": 0
          }
        }
      },
      "cell_type": "code",
      "source": [
        "mylist = [const, fill_mat, myzeros, myones, myrandom, myrand]\n",
        "sess = tf.InteractiveSession()#used only for notebooks else use only with tf.Session as sess:"
      ],
      "execution_count": 0,
      "outputs": []
    },
    {
      "metadata": {
        "id": "ZXQX5u7jPqx6",
        "colab_type": "code",
        "colab": {
          "autoexec": {
            "startup": false,
            "wait_interval": 0
          },
          "base_uri": "https://localhost:8080/",
          "height": 485
        },
        "outputId": "20a192c1-f290-4e61-c974-0f33a63bb3db",
        "executionInfo": {
          "status": "ok",
          "timestamp": 1533022228700,
          "user_tz": -330,
          "elapsed": 1024,
          "user": {
            "displayName": "Shobhit Sundriyal",
            "photoUrl": "https://lh3.googleusercontent.com/a/default-user=s128",
            "userId": "117368682925893777140"
          }
        }
      },
      "cell_type": "code",
      "source": [
        "for element in mylist:\n",
        "    print(sess.run(element),'\\n')#Alternatively we can use element.eval() instead of sess.run(element)"
      ],
      "execution_count": 12,
      "outputs": [
        {
          "output_type": "stream",
          "text": [
            "10 \n",
            "\n",
            "[[10 10 10 10]\n",
            " [10 10 10 10]\n",
            " [10 10 10 10]\n",
            " [10 10 10 10]] \n",
            "\n",
            "[[0. 0. 0. 0.]\n",
            " [0. 0. 0. 0.]\n",
            " [0. 0. 0. 0.]\n",
            " [0. 0. 0. 0.]] \n",
            "\n",
            "[[1. 1. 1. 1.]\n",
            " [1. 1. 1. 1.]\n",
            " [1. 1. 1. 1.]\n",
            " [1. 1. 1. 1.]] \n",
            "\n",
            "[[-0.3121867  -0.5486291   0.43276173  0.35691783]\n",
            " [ 0.40759742 -0.2680981  -0.41499448 -0.22577967]\n",
            " [-0.9951731   0.05632048  1.3289064   0.28551292]\n",
            " [ 0.27563736  0.86364555 -2.0367527  -1.5522063 ]] \n",
            "\n",
            "[[0.33895338 0.73612523 0.7233604  0.10672295]\n",
            " [0.64512706 0.11649704 0.31120098 0.09589684]\n",
            " [0.2717526  0.45117807 0.24153543 0.19222462]\n",
            " [0.34387064 0.46703112 0.7273501  0.63105106]] \n",
            "\n"
          ],
          "name": "stdout"
        }
      ]
    },
    {
      "metadata": {
        "id": "ZE3kvqFlPsyq",
        "colab_type": "code",
        "colab": {
          "autoexec": {
            "startup": false,
            "wait_interval": 0
          },
          "base_uri": "https://localhost:8080/",
          "height": 35
        },
        "outputId": "dfc7e473-4004-4815-f5f4-99c93da32dea",
        "executionInfo": {
          "status": "ok",
          "timestamp": 1533022237450,
          "user_tz": -330,
          "elapsed": 1148,
          "user": {
            "displayName": "Shobhit Sundriyal",
            "photoUrl": "https://lh3.googleusercontent.com/a/default-user=s128",
            "userId": "117368682925893777140"
          }
        }
      },
      "cell_type": "code",
      "source": [
        "a = tf.constant([[1,2],\n",
        "                 [3,4]])\n",
        "a.get_shape()"
      ],
      "execution_count": 13,
      "outputs": [
        {
          "output_type": "execute_result",
          "data": {
            "text/plain": [
              "TensorShape([Dimension(2), Dimension(2)])"
            ]
          },
          "metadata": {
            "tags": []
          },
          "execution_count": 13
        }
      ]
    },
    {
      "metadata": {
        "id": "H5NDru9NPu5O",
        "colab_type": "code",
        "colab": {
          "autoexec": {
            "startup": false,
            "wait_interval": 0
          },
          "base_uri": "https://localhost:8080/",
          "height": 35
        },
        "outputId": "adf3acea-e0f4-449f-8aff-fb339d9681ed",
        "executionInfo": {
          "status": "ok",
          "timestamp": 1533022245385,
          "user_tz": -330,
          "elapsed": 1002,
          "user": {
            "displayName": "Shobhit Sundriyal",
            "photoUrl": "https://lh3.googleusercontent.com/a/default-user=s128",
            "userId": "117368682925893777140"
          }
        }
      },
      "cell_type": "code",
      "source": [
        "b = tf.constant([[10],\n",
        "                 [100]])\n",
        "b.get_shape()"
      ],
      "execution_count": 14,
      "outputs": [
        {
          "output_type": "execute_result",
          "data": {
            "text/plain": [
              "TensorShape([Dimension(2), Dimension(1)])"
            ]
          },
          "metadata": {
            "tags": []
          },
          "execution_count": 14
        }
      ]
    },
    {
      "metadata": {
        "id": "6QfPm39_Pw3W",
        "colab_type": "code",
        "colab": {
          "autoexec": {
            "startup": false,
            "wait_interval": 0
          },
          "base_uri": "https://localhost:8080/",
          "height": 35
        },
        "outputId": "279ad86c-91e5-4f6c-8e6d-17ff22e99618",
        "executionInfo": {
          "status": "ok",
          "timestamp": 1533022251658,
          "user_tz": -330,
          "elapsed": 1026,
          "user": {
            "displayName": "Shobhit Sundriyal",
            "photoUrl": "https://lh3.googleusercontent.com/a/default-user=s128",
            "userId": "117368682925893777140"
          }
        }
      },
      "cell_type": "code",
      "source": [
        "result = tf.matmul(a,b)\n",
        "result"
      ],
      "execution_count": 15,
      "outputs": [
        {
          "output_type": "execute_result",
          "data": {
            "text/plain": [
              "<tf.Tensor 'MatMul:0' shape=(2, 1) dtype=int32>"
            ]
          },
          "metadata": {
            "tags": []
          },
          "execution_count": 15
        }
      ]
    },
    {
      "metadata": {
        "id": "K1JryJ3BPyZO",
        "colab_type": "code",
        "colab": {
          "autoexec": {
            "startup": false,
            "wait_interval": 0
          },
          "base_uri": "https://localhost:8080/",
          "height": 52
        },
        "outputId": "3e192f1b-39b4-4a12-9e3a-c2b8fa4acc76",
        "executionInfo": {
          "status": "ok",
          "timestamp": 1533022258599,
          "user_tz": -330,
          "elapsed": 977,
          "user": {
            "displayName": "Shobhit Sundriyal",
            "photoUrl": "https://lh3.googleusercontent.com/a/default-user=s128",
            "userId": "117368682925893777140"
          }
        }
      },
      "cell_type": "code",
      "source": [
        "sess.run(result)"
      ],
      "execution_count": 16,
      "outputs": [
        {
          "output_type": "execute_result",
          "data": {
            "text/plain": [
              "array([[210],\n",
              "       [430]], dtype=int32)"
            ]
          },
          "metadata": {
            "tags": []
          },
          "execution_count": 16
        }
      ]
    },
    {
      "metadata": {
        "id": "gMh5SKVgP0Gg",
        "colab_type": "code",
        "colab": {
          "autoexec": {
            "startup": false,
            "wait_interval": 0
          },
          "base_uri": "https://localhost:8080/",
          "height": 52
        },
        "outputId": "904d5a06-0a32-4989-9062-e4c56ec6be93",
        "executionInfo": {
          "status": "ok",
          "timestamp": 1533022264159,
          "user_tz": -330,
          "elapsed": 736,
          "user": {
            "displayName": "Shobhit Sundriyal",
            "photoUrl": "https://lh3.googleusercontent.com/a/default-user=s128",
            "userId": "117368682925893777140"
          }
        }
      },
      "cell_type": "code",
      "source": [
        "result.eval()"
      ],
      "execution_count": 17,
      "outputs": [
        {
          "output_type": "execute_result",
          "data": {
            "text/plain": [
              "array([[210],\n",
              "       [430]], dtype=int32)"
            ]
          },
          "metadata": {
            "tags": []
          },
          "execution_count": 17
        }
      ]
    },
    {
      "metadata": {
        "id": "WtiU-JxGP7O8",
        "colab_type": "text"
      },
      "cell_type": "markdown",
      "source": [
        "##Tensorflow Graphs"
      ]
    },
    {
      "metadata": {
        "id": "lKZHhjbFP1g3",
        "colab_type": "code",
        "colab": {
          "autoexec": {
            "startup": false,
            "wait_interval": 0
          }
        }
      },
      "cell_type": "code",
      "source": [
        "n1 = tf.constant(1)\n",
        "n2 = tf.constant(2)\n",
        "n3 = n1 + n2"
      ],
      "execution_count": 0,
      "outputs": []
    },
    {
      "metadata": {
        "id": "lA-vDBpxP-AL",
        "colab_type": "code",
        "colab": {
          "autoexec": {
            "startup": false,
            "wait_interval": 0
          }
        }
      },
      "cell_type": "code",
      "source": [
        "with tf.Session() as sess:\n",
        "    result = sess.run(n3)"
      ],
      "execution_count": 0,
      "outputs": []
    },
    {
      "metadata": {
        "id": "UDMoX57-P_qn",
        "colab_type": "code",
        "colab": {
          "autoexec": {
            "startup": false,
            "wait_interval": 0
          },
          "base_uri": "https://localhost:8080/",
          "height": 52
        },
        "outputId": "bbc3d582-eee2-4159-d5dd-b5bd76b8a68f",
        "executionInfo": {
          "status": "ok",
          "timestamp": 1533022321925,
          "user_tz": -330,
          "elapsed": 981,
          "user": {
            "displayName": "Shobhit Sundriyal",
            "photoUrl": "https://lh3.googleusercontent.com/a/default-user=s128",
            "userId": "117368682925893777140"
          }
        }
      },
      "cell_type": "code",
      "source": [
        "print(result)\n",
        "print(n3)"
      ],
      "execution_count": 20,
      "outputs": [
        {
          "output_type": "stream",
          "text": [
            "3\n",
            "Tensor(\"add_6:0\", shape=(), dtype=int32)\n"
          ],
          "name": "stdout"
        }
      ]
    },
    {
      "metadata": {
        "id": "eFYjWX6EQDjN",
        "colab_type": "code",
        "colab": {
          "autoexec": {
            "startup": false,
            "wait_interval": 0
          },
          "base_uri": "https://localhost:8080/",
          "height": 35
        },
        "outputId": "4d5bd78d-7883-4cde-e368-9ea7275b5c11",
        "executionInfo": {
          "status": "ok",
          "timestamp": 1533022333354,
          "user_tz": -330,
          "elapsed": 1162,
          "user": {
            "displayName": "Shobhit Sundriyal",
            "photoUrl": "https://lh3.googleusercontent.com/a/default-user=s128",
            "userId": "117368682925893777140"
          }
        }
      },
      "cell_type": "code",
      "source": [
        "print(tf.get_default_graph())"
      ],
      "execution_count": 21,
      "outputs": [
        {
          "output_type": "stream",
          "text": [
            "<tensorflow.python.framework.ops.Graph object at 0x7f92cc14c4e0>\n"
          ],
          "name": "stdout"
        }
      ]
    },
    {
      "metadata": {
        "id": "feRy6pOwQGTK",
        "colab_type": "code",
        "colab": {
          "autoexec": {
            "startup": false,
            "wait_interval": 0
          },
          "base_uri": "https://localhost:8080/",
          "height": 35
        },
        "outputId": "0da2eb81-7b85-4d82-ed10-9e4f36cca344",
        "executionInfo": {
          "status": "ok",
          "timestamp": 1533022339306,
          "user_tz": -330,
          "elapsed": 1036,
          "user": {
            "displayName": "Shobhit Sundriyal",
            "photoUrl": "https://lh3.googleusercontent.com/a/default-user=s128",
            "userId": "117368682925893777140"
          }
        }
      },
      "cell_type": "code",
      "source": [
        "g = tf.Graph()\n",
        "print(g)"
      ],
      "execution_count": 22,
      "outputs": [
        {
          "output_type": "stream",
          "text": [
            "<tensorflow.python.framework.ops.Graph object at 0x7f92c98a32e8>\n"
          ],
          "name": "stdout"
        }
      ]
    },
    {
      "metadata": {
        "id": "7ygsSPd-QHyP",
        "colab_type": "code",
        "colab": {
          "autoexec": {
            "startup": false,
            "wait_interval": 0
          },
          "base_uri": "https://localhost:8080/",
          "height": 35
        },
        "outputId": "a2a466fa-4b49-4411-edb8-c9fd8cd81d91",
        "executionInfo": {
          "status": "ok",
          "timestamp": 1533022346079,
          "user_tz": -330,
          "elapsed": 995,
          "user": {
            "displayName": "Shobhit Sundriyal",
            "photoUrl": "https://lh3.googleusercontent.com/a/default-user=s128",
            "userId": "117368682925893777140"
          }
        }
      },
      "cell_type": "code",
      "source": [
        "graph_one = tf.get_default_graph()\n",
        "print(graph_one)#Both default graph have same memory location"
      ],
      "execution_count": 23,
      "outputs": [
        {
          "output_type": "stream",
          "text": [
            "<tensorflow.python.framework.ops.Graph object at 0x7f92cc14c4e0>\n"
          ],
          "name": "stdout"
        }
      ]
    },
    {
      "metadata": {
        "id": "c54imm6iQJc6",
        "colab_type": "code",
        "colab": {
          "autoexec": {
            "startup": false,
            "wait_interval": 0
          },
          "base_uri": "https://localhost:8080/",
          "height": 35
        },
        "outputId": "fdd7bc6b-3e6a-47ba-bc32-e4878c719687",
        "executionInfo": {
          "status": "ok",
          "timestamp": 1533022353275,
          "user_tz": -330,
          "elapsed": 1070,
          "user": {
            "displayName": "Shobhit Sundriyal",
            "photoUrl": "https://lh3.googleusercontent.com/a/default-user=s128",
            "userId": "117368682925893777140"
          }
        }
      },
      "cell_type": "code",
      "source": [
        "graph_two = tf.Graph()\n",
        "print(graph_two)"
      ],
      "execution_count": 24,
      "outputs": [
        {
          "output_type": "stream",
          "text": [
            "<tensorflow.python.framework.ops.Graph object at 0x7f92c98a3400>\n"
          ],
          "name": "stdout"
        }
      ]
    },
    {
      "metadata": {
        "id": "pQ8ti3GHQLMO",
        "colab_type": "code",
        "colab": {
          "autoexec": {
            "startup": false,
            "wait_interval": 0
          },
          "base_uri": "https://localhost:8080/",
          "height": 52
        },
        "outputId": "d56e05d2-eedc-4f34-df30-af4ee2b467d4",
        "executionInfo": {
          "status": "ok",
          "timestamp": 1533022361684,
          "user_tz": -330,
          "elapsed": 955,
          "user": {
            "displayName": "Shobhit Sundriyal",
            "photoUrl": "https://lh3.googleusercontent.com/a/default-user=s128",
            "userId": "117368682925893777140"
          }
        }
      },
      "cell_type": "code",
      "source": [
        "#let's make graph_two as default graph\n",
        "with graph_two.as_default():\n",
        "    print(graph_two is tf.get_default_graph())#inside gives True\n",
        "print(graph_two is tf.get_default_graph())#outside gives False coz outside the block graph_one is default graph"
      ],
      "execution_count": 25,
      "outputs": [
        {
          "output_type": "stream",
          "text": [
            "True\n",
            "False\n"
          ],
          "name": "stdout"
        }
      ]
    },
    {
      "metadata": {
        "id": "MMBdaqJ8QQ4y",
        "colab_type": "text"
      },
      "cell_type": "markdown",
      "source": [
        "Variables and placeholders\n",
        "Variables can hold values of weights and biases throughout the session. Varibles need to be initialized. Placeholders are initially empty and are used to feed in the actual training examples.(usually in small batches). However they do need to be declared expected data type(tf.float32) with an optional shape argument."
      ]
    },
    {
      "metadata": {
        "id": "8Vx3Dma3QNQd",
        "colab_type": "code",
        "colab": {
          "autoexec": {
            "startup": false,
            "wait_interval": 0
          }
        }
      },
      "cell_type": "code",
      "source": [
        "sess = tf.InteractiveSession()# so that we can run the sessions in multiple cells "
      ],
      "execution_count": 0,
      "outputs": []
    },
    {
      "metadata": {
        "id": "18gAJKxiQUH4",
        "colab_type": "code",
        "colab": {
          "autoexec": {
            "startup": false,
            "wait_interval": 0
          },
          "base_uri": "https://localhost:8080/",
          "height": 35
        },
        "outputId": "ae327f43-5f96-4be2-f9e3-51fe3c6cea0f",
        "executionInfo": {
          "status": "ok",
          "timestamp": 1533022406779,
          "user_tz": -330,
          "elapsed": 1015,
          "user": {
            "displayName": "Shobhit Sundriyal",
            "photoUrl": "https://lh3.googleusercontent.com/a/default-user=s128",
            "userId": "117368682925893777140"
          }
        }
      },
      "cell_type": "code",
      "source": [
        "my_tensor = tf.random_uniform((4,4),0,1)\n",
        "my_tensor"
      ],
      "execution_count": 27,
      "outputs": [
        {
          "output_type": "execute_result",
          "data": {
            "text/plain": [
              "<tf.Tensor 'random_uniform_1:0' shape=(4, 4) dtype=float32>"
            ]
          },
          "metadata": {
            "tags": []
          },
          "execution_count": 27
        }
      ]
    },
    {
      "metadata": {
        "id": "izs7RBp2QYQt",
        "colab_type": "code",
        "colab": {
          "autoexec": {
            "startup": false,
            "wait_interval": 0
          },
          "base_uri": "https://localhost:8080/",
          "height": 35
        },
        "outputId": "4de7d9cb-50b7-4b92-c4fc-e3c526f125f6",
        "executionInfo": {
          "status": "ok",
          "timestamp": 1533022519318,
          "user_tz": -330,
          "elapsed": 1034,
          "user": {
            "displayName": "Shobhit Sundriyal",
            "photoUrl": "https://lh3.googleusercontent.com/a/default-user=s128",
            "userId": "117368682925893777140"
          }
        }
      },
      "cell_type": "code",
      "source": [
        "my_var = tf.Variable(initial_value=my_tensor)\n",
        "print(my_var)"
      ],
      "execution_count": 31,
      "outputs": [
        {
          "output_type": "stream",
          "text": [
            "<tf.Variable 'Variable:0' shape=(4, 4) dtype=float32_ref>\n"
          ],
          "name": "stdout"
        }
      ]
    },
    {
      "metadata": {
        "id": "uwmhhq48Qejb",
        "colab_type": "code",
        "colab": {
          "autoexec": {
            "startup": false,
            "wait_interval": 0
          },
          "base_uri": "https://localhost:8080/",
          "height": 87
        },
        "outputId": "ab7b1926-4ac1-4321-e438-4433c4ae455a",
        "executionInfo": {
          "status": "ok",
          "timestamp": 1533022797862,
          "user_tz": -330,
          "elapsed": 1022,
          "user": {
            "displayName": "Shobhit Sundriyal",
            "photoUrl": "https://lh3.googleusercontent.com/a/default-user=s128",
            "userId": "117368682925893777140"
          }
        }
      },
      "cell_type": "code",
      "source": [
        "init = tf.global_variables_initializer() #initializing the tf variables\n",
        "sess.run(init)\n",
        "sess.run(my_var)"
      ],
      "execution_count": 35,
      "outputs": [
        {
          "output_type": "execute_result",
          "data": {
            "text/plain": [
              "array([[0.35143209, 0.88159406, 0.09357893, 0.11790812],\n",
              "       [0.6620132 , 0.47957265, 0.56097984, 0.14640677],\n",
              "       [0.24625683, 0.46647406, 0.7148727 , 0.10647583],\n",
              "       [0.3109945 , 0.16820872, 0.16695929, 0.18667829]], dtype=float32)"
            ]
          },
          "metadata": {
            "tags": []
          },
          "execution_count": 35
        }
      ]
    },
    {
      "metadata": {
        "id": "PfY-0rVYRqDh",
        "colab_type": "code",
        "colab": {
          "autoexec": {
            "startup": false,
            "wait_interval": 0
          }
        }
      },
      "cell_type": "code",
      "source": [
        "ph = tf.placeholder(tf.float32)"
      ],
      "execution_count": 0,
      "outputs": []
    },
    {
      "metadata": {
        "id": "pbZcvL7lSNbJ",
        "colab_type": "code",
        "colab": {
          "autoexec": {
            "startup": false,
            "wait_interval": 0
          }
        }
      },
      "cell_type": "code",
      "source": [
        ""
      ],
      "execution_count": 0,
      "outputs": []
    }
  ]
}