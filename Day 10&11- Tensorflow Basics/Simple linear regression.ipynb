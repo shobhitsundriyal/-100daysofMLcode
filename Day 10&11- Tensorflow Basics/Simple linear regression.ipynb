{
  "nbformat": 4,
  "nbformat_minor": 0,
  "metadata": {
    "colab": {
      "name": "First TF neural net.ipynb",
      "version": "0.3.2",
      "views": {},
      "default_view": {},
      "provenance": []
    },
    "kernelspec": {
      "name": "python3",
      "display_name": "Python 3"
    }
  },
  "cells": [
    {
      "metadata": {
        "id": "7JPTSjhcTV_K",
        "colab_type": "text"
      },
      "cell_type": "markdown",
      "source": [
        "# TF Neural Network"
      ]
    },
    {
      "metadata": {
        "id": "dCNCGXNiTiKJ",
        "colab_type": "code",
        "colab": {
          "autoexec": {
            "startup": false,
            "wait_interval": 0
          }
        }
      },
      "cell_type": "code",
      "source": [
        "import numpy as np\n",
        "import tensorflow as tf"
      ],
      "execution_count": 0,
      "outputs": []
    },
    {
      "metadata": {
        "id": "9sleMdMvfwUk",
        "colab_type": "code",
        "colab": {
          "autoexec": {
            "startup": false,
            "wait_interval": 0
          }
        }
      },
      "cell_type": "code",
      "source": [
        "np.random.seed(101)\n",
        "tf.set_random_seed(101)"
      ],
      "execution_count": 0,
      "outputs": []
    },
    {
      "metadata": {
        "id": "lTbj9ZHdfbVv",
        "colab_type": "code",
        "colab": {
          "autoexec": {
            "startup": false,
            "wait_interval": 0
          }
        }
      },
      "cell_type": "code",
      "source": [
        "n_features = 10\n",
        "n_dense_neurons = 3"
      ],
      "execution_count": 0,
      "outputs": []
    },
    {
      "metadata": {
        "id": "QpSiBuVshCXT",
        "colab_type": "code",
        "colab": {
          "autoexec": {
            "startup": false,
            "wait_interval": 0
          }
        }
      },
      "cell_type": "code",
      "source": [
        "x = tf.placeholder(tf.float32,(None,n_features))\n",
        "W = tf.Variable(tf.random_normal([n_features, n_dense_neurons]))#weights\n",
        "b = tf.Variable(tf.ones([n_dense_neurons]))#biases\n",
        "xW = tf.matmul(x,W)#Layer input to weight multipliication\n",
        "z = tf.add(xW,b)\n",
        "a = tf.sigmoid(z)#activation function\n",
        "\n",
        "init = tf.global_variables_initializer()"
      ],
      "execution_count": 0,
      "outputs": []
    },
    {
      "metadata": {
        "id": "pfX-DBJ7k_5s",
        "colab_type": "code",
        "colab": {
          "autoexec": {
            "startup": false,
            "wait_interval": 0
          },
          "base_uri": "https://localhost:8080/",
          "height": 35
        },
        "outputId": "c5c900ea-5947-4847-f8c5-87d39b23e1b3",
        "executionInfo": {
          "status": "ok",
          "timestamp": 1533086099196,
          "user_tz": -330,
          "elapsed": 629,
          "user": {
            "displayName": "Shobhit Sundriyal",
            "photoUrl": "https://lh3.googleusercontent.com/a/default-user=s128",
            "userId": "117368682925893777140"
          }
        }
      },
      "cell_type": "code",
      "source": [
        "with tf.Session() as sess:\n",
        "  sess.run(init)\n",
        "  layer_out = sess.run(a, feed_dict={x:np.random.random([1, n_features])})\n",
        "  \n",
        "print(layer_out)"
      ],
      "execution_count": 6,
      "outputs": [
        {
          "output_type": "stream",
          "text": [
            "[[0.725475   0.43900672 0.3084785 ]]\n"
          ],
          "name": "stdout"
        }
      ]
    },
    {
      "metadata": {
        "id": "r4PF2FNupSP9",
        "colab_type": "text"
      },
      "cell_type": "markdown",
      "source": [
        "## Simple Linear Regression"
      ]
    },
    {
      "metadata": {
        "id": "0faskhXKnIDo",
        "colab_type": "code",
        "colab": {
          "autoexec": {
            "startup": false,
            "wait_interval": 0
          },
          "base_uri": "https://localhost:8080/",
          "height": 52
        },
        "outputId": "bbc66388-c9aa-4e23-f579-da7019b57ecd",
        "executionInfo": {
          "status": "ok",
          "timestamp": 1533086105040,
          "user_tz": -330,
          "elapsed": 1032,
          "user": {
            "displayName": "Shobhit Sundriyal",
            "photoUrl": "https://lh3.googleusercontent.com/a/default-user=s128",
            "userId": "117368682925893777140"
          }
        }
      },
      "cell_type": "code",
      "source": [
        "x_data = np.linspace(0,10,10) + np.random.uniform(-1.5,1.5,10)\n",
        "x_data"
      ],
      "execution_count": 7,
      "outputs": [
        {
          "output_type": "execute_result",
          "data": {
            "text/plain": [
              "array([0.16268277, 0.66750697, 1.26789943, 4.19013862, 5.84089411,\n",
              "       4.75261654, 5.41735097, 8.08842304, 9.57586716, 9.32871649])"
            ]
          },
          "metadata": {
            "tags": []
          },
          "execution_count": 7
        }
      ]
    },
    {
      "metadata": {
        "id": "S8dQA-3w1WN4",
        "colab_type": "code",
        "colab": {
          "autoexec": {
            "startup": false,
            "wait_interval": 0
          },
          "base_uri": "https://localhost:8080/",
          "height": 52
        },
        "outputId": "c305d499-1746-4c54-a956-838fd2630dc7",
        "executionInfo": {
          "status": "ok",
          "timestamp": 1533086106699,
          "user_tz": -330,
          "elapsed": 752,
          "user": {
            "displayName": "Shobhit Sundriyal",
            "photoUrl": "https://lh3.googleusercontent.com/a/default-user=s128",
            "userId": "117368682925893777140"
          }
        }
      },
      "cell_type": "code",
      "source": [
        "y_data = np.linspace(0,10,10) + np.random.uniform(-1.5,1.5,10)\n",
        "y_data"
      ],
      "execution_count": 8,
      "outputs": [
        {
          "output_type": "execute_result",
          "data": {
            "text/plain": [
              "array([ 0.55591899,  1.16471353,  0.86767583,  2.24694105,  3.50534672,\n",
              "        7.03850926,  6.72866286,  8.01414638,  9.59334606, 10.12588532])"
            ]
          },
          "metadata": {
            "tags": []
          },
          "execution_count": 8
        }
      ]
    },
    {
      "metadata": {
        "id": "k32e7zNCDRxO",
        "colab_type": "code",
        "colab": {
          "autoexec": {
            "startup": false,
            "wait_interval": 0
          },
          "base_uri": "https://localhost:8080/",
          "height": 365
        },
        "outputId": "3462222e-d903-4618-a559-6bbf764191ce",
        "executionInfo": {
          "status": "ok",
          "timestamp": 1533086237108,
          "user_tz": -330,
          "elapsed": 1724,
          "user": {
            "displayName": "Shobhit Sundriyal",
            "photoUrl": "https://lh3.googleusercontent.com/a/default-user=s128",
            "userId": "117368682925893777140"
          }
        }
      },
      "cell_type": "code",
      "source": [
        "import matplotlib.pyplot as plt\n",
        "plt.plot(x_data, y_data,'o')"
      ],
      "execution_count": 14,
      "outputs": [
        {
          "output_type": "execute_result",
          "data": {
            "text/plain": [
              "[<matplotlib.lines.Line2D at 0x7f89dc7f27f0>]"
            ]
          },
          "metadata": {
            "tags": []
          },
          "execution_count": 14
        },
        {
          "output_type": "display_data",
          "data": {
            "image/png": "[encoded data removed]",
            "text/plain": [
              "<matplotlib.figure.Figure at 0x7f89dc83b908>"
            ]
          },
          "metadata": {
            "tags": []
          }
        }
      ]
    },
    {
      "metadata": {
        "id": "JDMNbAIaDlmJ",
        "colab_type": "code",
        "colab": {
          "autoexec": {
            "startup": false,
            "wait_interval": 0
          },
          "base_uri": "https://localhost:8080/",
          "height": 35
        },
        "outputId": "c61e5bf1-e316-450e-a825-c8535fc4d586",
        "executionInfo": {
          "status": "ok",
          "timestamp": 1533086345268,
          "user_tz": -330,
          "elapsed": 1311,
          "user": {
            "displayName": "Shobhit Sundriyal",
            "photoUrl": "https://lh3.googleusercontent.com/a/default-user=s128",
            "userId": "117368682925893777140"
          }
        }
      },
      "cell_type": "code",
      "source": [
        "#y = mx + b\n",
        "np.random.rand(2)"
      ],
      "execution_count": 15,
      "outputs": [
        {
          "output_type": "execute_result",
          "data": {
            "text/plain": [
              "array([0.91315356, 0.80792015])"
            ]
          },
          "metadata": {
            "tags": []
          },
          "execution_count": 15
        }
      ]
    },
    {
      "metadata": {
        "id": "xXj8BGknESLc",
        "colab_type": "code",
        "colab": {
          "autoexec": {
            "startup": false,
            "wait_interval": 0
          }
        }
      },
      "cell_type": "code",
      "source": [
        "m = tf.Variable(0.91)\n",
        "b = tf.Variable(0.80)#both are randomly selected\n",
        "error = 0 #initially error is zero\n",
        "\n",
        "for x,y in zip(x_data, y_data):\n",
        "  y_hat = m*x + b\n",
        "  error = error + (y-y_hat)**2\n",
        "  \n",
        "optimizer = tf.train.GradientDescentOptimizer(learning_rate=0.001)\n",
        "train = optimizer.minimize(error)"
      ],
      "execution_count": 0,
      "outputs": []
    },
    {
      "metadata": {
        "id": "qn3P99I_Fm6M",
        "colab_type": "code",
        "colab": {
          "autoexec": {
            "startup": false,
            "wait_interval": 0
          }
        }
      },
      "cell_type": "code",
      "source": [
        "init = tf.global_variables_initializer()\n",
        "\n",
        "with tf.Session() as sess:\n",
        "  sess.run(init)\n",
        "  training_steps = 10 # as our data is very small only 2 steps were enough ;)\n",
        "  \n",
        "  for i in range(training_steps):\n",
        "    sess.run(train)\n",
        "    \n",
        "  final_slope, final_intercept = sess.run([m,b])"
      ],
      "execution_count": 0,
      "outputs": []
    },
    {
      "metadata": {
        "id": "jIC0BHFqHZkP",
        "colab_type": "code",
        "colab": {
          "autoexec": {
            "startup": false,
            "wait_interval": 0
          },
          "base_uri": "https://localhost:8080/",
          "height": 364
        },
        "outputId": "e22967f4-0e67-4152-cbdd-330d240d36f4",
        "executionInfo": {
          "status": "ok",
          "timestamp": 1533087331534,
          "user_tz": -330,
          "elapsed": 1642,
          "user": {
            "displayName": "Shobhit Sundriyal",
            "photoUrl": "https://lh3.googleusercontent.com/a/default-user=s128",
            "userId": "117368682925893777140"
          }
        }
      },
      "cell_type": "code",
      "source": [
        "x_test = np.linspace(-1,11,10)\n",
        "\n",
        "y_pred = final_slope * x_test + final_intercept\n",
        "\n",
        "plt.plot(x_test, y_pred, 'r')\n",
        "plt.plot(x_data, y_data,'o')"
      ],
      "execution_count": 26,
      "outputs": [
        {
          "output_type": "execute_result",
          "data": {
            "text/plain": [
              "[<matplotlib.lines.Line2D at 0x7f89dbc49048>]"
            ]
          },
          "metadata": {
            "tags": []
          },
          "execution_count": 26
        },
        {
          "output_type": "display_data",
          "data": {
            "image/png": "[encoded data removed]",
            "text/plain": [
              "<matplotlib.figure.Figure at 0x7f89dbc490b8>"
            ]
          },
          "metadata": {
            "tags": []
          }
        }
      ]
    },
    {
      "metadata": {
        "id": "yaGPiDKRH-rV",
        "colab_type": "code",
        "colab": {
          "autoexec": {
            "startup": false,
            "wait_interval": 0
          }
        }
      },
      "cell_type": "code",
      "source": [
        ""
      ],
      "execution_count": 0,
      "outputs": []
    }
  ]
}